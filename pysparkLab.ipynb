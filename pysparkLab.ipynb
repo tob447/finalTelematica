{
 "cells": [
  {
   "cell_type": "code",
   "execution_count": 1,
   "metadata": {},
   "outputs": [
    {
     "data": {
      "application/vnd.jupyter.widget-view+json": {
       "model_id": "6d2b94a7ee2c4c5992b33dd6be971af2",
       "version_major": 2,
       "version_minor": 0
      },
      "text/plain": [
       "VBox()"
      ]
     },
     "metadata": {},
     "output_type": "display_data"
    },
    {
     "name": "stdout",
     "output_type": "stream",
     "text": [
      "Starting Spark application\n"
     ]
    },
    {
     "data": {
      "text/html": [
       "<table>\n",
       "<tr><th>ID</th><th>YARN Application ID</th><th>Kind</th><th>State</th><th>Spark UI</th><th>Driver log</th><th>Current session?</th></tr><tr><td>0</td><td>application_1605012073888_0002</td><td>pyspark</td><td>idle</td><td><a target=\"_blank\" href=\"http://ip-172-31-2-139.ec2.internal:20888/proxy/application_1605012073888_0002/\">Link</a></td><td><a target=\"_blank\" href=\"http://ip-172-31-2-158.ec2.internal:8042/node/containerlogs/container_1605012073888_0002_01_000001/livy\">Link</a></td><td>✔</td></tr></table>"
      ],
      "text/plain": [
       "<IPython.core.display.HTML object>"
      ]
     },
     "metadata": {},
     "output_type": "display_data"
    },
    {
     "data": {
      "application/vnd.jupyter.widget-view+json": {
       "model_id": "",
       "version_major": 2,
       "version_minor": 0
      },
      "text/plain": [
       "FloatProgress(value=0.0, bar_style='info', description='Progress:', layout=Layout(height='25px', width='50%'),…"
      ]
     },
     "metadata": {},
     "output_type": "display_data"
    },
    {
     "name": "stdout",
     "output_type": "stream",
     "text": [
      "SparkSession available as 'spark'.\n"
     ]
    },
    {
     "data": {
      "application/vnd.jupyter.widget-view+json": {
       "model_id": "",
       "version_major": 2,
       "version_minor": 0
      },
      "text/plain": [
       "FloatProgress(value=0.0, bar_style='info', description='Progress:', layout=Layout(height='25px', width='50%'),…"
      ]
     },
     "metadata": {},
     "output_type": "display_data"
    },
    {
     "name": "stdout",
     "output_type": "stream",
     "text": [
      "<pyspark.sql.session.SparkSession object at 0x7f9f00210790>"
     ]
    }
   ],
   "source": [
    "spark"
   ]
  },
  {
   "cell_type": "code",
   "execution_count": 2,
   "metadata": {},
   "outputs": [
    {
     "data": {
      "application/vnd.jupyter.widget-view+json": {
       "model_id": "585a6a9e7fe046c1aeb8d57dd3045bd1",
       "version_major": 2,
       "version_minor": 0
      },
      "text/plain": [
       "VBox()"
      ]
     },
     "metadata": {},
     "output_type": "display_data"
    },
    {
     "data": {
      "application/vnd.jupyter.widget-view+json": {
       "model_id": "",
       "version_major": 2,
       "version_minor": 0
      },
      "text/plain": [
       "FloatProgress(value=0.0, bar_style='info', description='Progress:', layout=Layout(height='25px', width='50%'),…"
      ]
     },
     "metadata": {},
     "output_type": "display_data"
    },
    {
     "name": "stdout",
     "output_type": "stream",
     "text": [
      "<SparkContext master=yarn appName=livy-session-0>"
     ]
    }
   ],
   "source": [
    "sc"
   ]
  },
  {
   "cell_type": "code",
   "execution_count": 3,
   "metadata": {},
   "outputs": [
    {
     "data": {
      "application/vnd.jupyter.widget-view+json": {
       "model_id": "73979064e6d948a794878ecb8fae9c80",
       "version_major": 2,
       "version_minor": 0
      },
      "text/plain": [
       "VBox()"
      ]
     },
     "metadata": {},
     "output_type": "display_data"
    },
    {
     "data": {
      "application/vnd.jupyter.widget-view+json": {
       "model_id": "",
       "version_major": 2,
       "version_minor": 0
      },
      "text/plain": [
       "FloatProgress(value=0.0, bar_style='info', description='Progress:', layout=Layout(height='25px', width='50%'),…"
      ]
     },
     "metadata": {},
     "output_type": "display_data"
    }
   ],
   "source": [
    "mirdd=sc"
   ]
  },
  {
   "cell_type": "code",
   "execution_count": 4,
   "metadata": {},
   "outputs": [
    {
     "data": {
      "application/vnd.jupyter.widget-view+json": {
       "model_id": "98fb3f6f9505452daf38a0c60431053a",
       "version_major": 2,
       "version_minor": 0
      },
      "text/plain": [
       "VBox()"
      ]
     },
     "metadata": {},
     "output_type": "display_data"
    },
    {
     "data": {
      "application/vnd.jupyter.widget-view+json": {
       "model_id": "",
       "version_major": 2,
       "version_minor": 0
      },
      "text/plain": [
       "FloatProgress(value=0.0, bar_style='info', description='Progress:', layout=Layout(height='25px', width='50%'),…"
      ]
     },
     "metadata": {},
     "output_type": "display_data"
    }
   ],
   "source": [
    "mirdd=sc.textFile('s3://topicostelematica/datasets/gutenberg-small/*.txt')\n"
   ]
  },
  {
   "cell_type": "code",
   "execution_count": 5,
   "metadata": {},
   "outputs": [
    {
     "data": {
      "application/vnd.jupyter.widget-view+json": {
       "model_id": "a03fb0a8584a4ef79615945bb3ec8917",
       "version_major": 2,
       "version_minor": 0
      },
      "text/plain": [
       "VBox()"
      ]
     },
     "metadata": {},
     "output_type": "display_data"
    },
    {
     "data": {
      "application/vnd.jupyter.widget-view+json": {
       "model_id": "",
       "version_major": 2,
       "version_minor": 0
      },
      "text/plain": [
       "FloatProgress(value=0.0, bar_style='info', description='Progress:', layout=Layout(height='25px', width='50%'),…"
      ]
     },
     "metadata": {},
     "output_type": "display_data"
    },
    {
     "name": "stdout",
     "output_type": "stream",
     "text": [
      "\n",
      "LINCOLN LETTERS\n",
      "\n",
      "By Abraham Lincoln\n",
      "\n",
      "\n",
      "Published by The Bibilophile Society\n",
      "\n",
      "\n",
      "\n",
      "\n",
      "NOTE\n",
      "\n",
      "The letters herein by Lincoln are so thoroughly characteristic of\n",
      "the man, and are in themselves so completely self-explanatory, that\n",
      "it requires no comment to enable the reader fully to understand and\n",
      "appreciate them. It will be observed that the philosophical\n",
      "admonitions in the letter to his brother, Johnston, were written on\n",
      "the same sheet with the letter to his father."
     ]
    }
   ],
   "source": [
    "for line in mirdd.take(20):\n",
    "    print (line)"
   ]
  },
  {
   "cell_type": "code",
   "execution_count": 9,
   "metadata": {},
   "outputs": [
    {
     "data": {
      "application/vnd.jupyter.widget-view+json": {
       "model_id": "edd566358f2d4845a587ad9a670db052",
       "version_major": 2,
       "version_minor": 0
      },
      "text/plain": [
       "VBox()"
      ]
     },
     "metadata": {},
     "output_type": "display_data"
    },
    {
     "data": {
      "application/vnd.jupyter.widget-view+json": {
       "model_id": "",
       "version_major": 2,
       "version_minor": 0
      },
      "text/plain": [
       "FloatProgress(value=0.0, bar_style='info', description='Progress:', layout=Layout(height='25px', width='50%'),…"
      ]
     },
     "metadata": {},
     "output_type": "display_data"
    },
    {
     "name": "stdout",
     "output_type": "stream",
     "text": [
      "\n",
      "LINCOLN\n",
      "LETTERS\n",
      "\n",
      "By\n",
      "Abraham\n",
      "Lincoln\n",
      "\n",
      "\n",
      "Published"
     ]
    }
   ],
   "source": [
    "tokens=mirdd.flatMap(lambda line: line.split(' '))\n",
    "for t in tokens.take(10):\n",
    "    print (t)"
   ]
  },
  {
   "cell_type": "code",
   "execution_count": 10,
   "metadata": {},
   "outputs": [
    {
     "data": {
      "application/vnd.jupyter.widget-view+json": {
       "model_id": "fa83345b8c854b70958ac920aebe08e2",
       "version_major": 2,
       "version_minor": 0
      },
      "text/plain": [
       "VBox()"
      ]
     },
     "metadata": {},
     "output_type": "display_data"
    },
    {
     "data": {
      "application/vnd.jupyter.widget-view+json": {
       "model_id": "",
       "version_major": 2,
       "version_minor": 0
      },
      "text/plain": [
       "FloatProgress(value=0.0, bar_style='info', description='Progress:', layout=Layout(height='25px', width='50%'),…"
      ]
     },
     "metadata": {},
     "output_type": "display_data"
    },
    {
     "name": "stdout",
     "output_type": "stream",
     "text": [
      "('', 1)\n",
      "('LINCOLN', 1)\n",
      "('LETTERS', 1)\n",
      "('', 1)\n",
      "('By', 1)\n",
      "('Abraham', 1)\n",
      "('Lincoln', 1)\n",
      "('', 1)\n",
      "('', 1)\n",
      "('Published', 1)"
     ]
    }
   ],
   "source": [
    "tokens = tokens.map(lambda w: (w,1))\n",
    "for t in tokens.take(10):\n",
    "    print(t)"
   ]
  },
  {
   "cell_type": "code",
   "execution_count": 13,
   "metadata": {},
   "outputs": [
    {
     "data": {
      "application/vnd.jupyter.widget-view+json": {
       "model_id": "6a4be55af1a447fea0ea66e17d937c6a",
       "version_major": 2,
       "version_minor": 0
      },
      "text/plain": [
       "VBox()"
      ]
     },
     "metadata": {},
     "output_type": "display_data"
    },
    {
     "data": {
      "application/vnd.jupyter.widget-view+json": {
       "model_id": "",
       "version_major": 2,
       "version_minor": 0
      },
      "text/plain": [
       "FloatProgress(value=0.0, bar_style='info', description='Progress:', layout=Layout(height='25px', width='50%'),…"
      ]
     },
     "metadata": {},
     "output_type": "display_data"
    },
    {
     "name": "stdout",
     "output_type": "stream",
     "text": [
      "('', 27298)\n",
      "('thoroughly', 15)\n",
      "('themselves', 192)\n",
      "('them.', 371)\n",
      "('letter', 312)\n",
      "('A.', 1456)\n",
      "('ORIGINALS', 1)\n",
      "('THEY', 1)\n",
      "('sum', 59)\n",
      "('singular', 18)"
     ]
    }
   ],
   "source": [
    "tokens=tokens.reduceByKey(lambda a,b:a+b)\n",
    "for t in tokens.take(10):\n",
    "    print(t)"
   ]
  },
  {
   "cell_type": "code",
   "execution_count": 15,
   "metadata": {},
   "outputs": [
    {
     "data": {
      "application/vnd.jupyter.widget-view+json": {
       "model_id": "78ff111025224099b812ea915aa1a6da",
       "version_major": 2,
       "version_minor": 0
      },
      "text/plain": [
       "VBox()"
      ]
     },
     "metadata": {},
     "output_type": "display_data"
    },
    {
     "data": {
      "application/vnd.jupyter.widget-view+json": {
       "model_id": "",
       "version_major": 2,
       "version_minor": 0
      },
      "text/plain": [
       "FloatProgress(value=0.0, bar_style='info', description='Progress:', layout=Layout(height='25px', width='50%'),…"
      ]
     },
     "metadata": {},
     "output_type": "display_data"
    },
    {
     "name": "stdout",
     "output_type": "stream",
     "text": [
      "('the', 44647)\n",
      "('of', 28020)\n",
      "('', 27298)\n",
      "('to', 23208)\n",
      "('and', 20444)\n",
      "('in', 13174)\n",
      "('that', 12265)\n",
      "('I', 10880)\n",
      "('a', 10431)\n",
      "('is', 7776)\n",
      "('be', 7148)\n",
      "('it', 6899)\n",
      "('as', 6473)\n",
      "('not', 5920)\n",
      "('for', 5658)\n",
      "('have', 5060)\n",
      "('by', 4571)\n",
      "('you', 4328)\n",
      "('he', 4111)\n",
      "('was', 4029)"
     ]
    }
   ],
   "source": [
    "wcsort =tokens.sortBy(lambda a:-a[1])\n",
    "for t in wcsort.take(20):\n",
    "    print (t)"
   ]
  },
  {
   "cell_type": "code",
   "execution_count": 16,
   "metadata": {},
   "outputs": [
    {
     "data": {
      "application/vnd.jupyter.widget-view+json": {
       "model_id": "0c1621c8a93d440e971be31b8cb0aafc",
       "version_major": 2,
       "version_minor": 0
      },
      "text/plain": [
       "VBox()"
      ]
     },
     "metadata": {},
     "output_type": "display_data"
    },
    {
     "data": {
      "application/vnd.jupyter.widget-view+json": {
       "model_id": "",
       "version_major": 2,
       "version_minor": 0
      },
      "text/plain": [
       "FloatProgress(value=0.0, bar_style='info', description='Progress:', layout=Layout(height='25px', width='50%'),…"
      ]
     },
     "metadata": {},
     "output_type": "display_data"
    }
   ],
   "source": [
    "df=wcsort.toDF()"
   ]
  },
  {
   "cell_type": "code",
   "execution_count": 17,
   "metadata": {},
   "outputs": [
    {
     "data": {
      "application/vnd.jupyter.widget-view+json": {
       "model_id": "67acef835eae42f992e41292965babcf",
       "version_major": 2,
       "version_minor": 0
      },
      "text/plain": [
       "VBox()"
      ]
     },
     "metadata": {},
     "output_type": "display_data"
    },
    {
     "data": {
      "application/vnd.jupyter.widget-view+json": {
       "model_id": "",
       "version_major": 2,
       "version_minor": 0
      },
      "text/plain": [
       "FloatProgress(value=0.0, bar_style='info', description='Progress:', layout=Layout(height='25px', width='50%'),…"
      ]
     },
     "metadata": {},
     "output_type": "display_data"
    },
    {
     "name": "stdout",
     "output_type": "stream",
     "text": [
      "DataFrame[_1: string, _2: bigint]"
     ]
    }
   ],
   "source": [
    "print (df)"
   ]
  },
  {
   "cell_type": "code",
   "execution_count": 19,
   "metadata": {},
   "outputs": [
    {
     "data": {
      "application/vnd.jupyter.widget-view+json": {
       "model_id": "65527488d13e4ca3b928c17ac45a3ed0",
       "version_major": 2,
       "version_minor": 0
      },
      "text/plain": [
       "VBox()"
      ]
     },
     "metadata": {},
     "output_type": "display_data"
    },
    {
     "data": {
      "application/vnd.jupyter.widget-view+json": {
       "model_id": "",
       "version_major": 2,
       "version_minor": 0
      },
      "text/plain": [
       "FloatProgress(value=0.0, bar_style='info', description='Progress:', layout=Layout(height='25px', width='50%'),…"
      ]
     },
     "metadata": {},
     "output_type": "display_data"
    },
    {
     "name": "stdout",
     "output_type": "stream",
     "text": [
      "DataFrame[_1: string, _2: bigint]"
     ]
    }
   ],
   "source": [
    "wcsort =tokens.sortBy(lambda a:-a[1])\n",
    "df=wcsort.toDF()\n",
    "print (df)"
   ]
  },
  {
   "cell_type": "code",
   "execution_count": 20,
   "metadata": {},
   "outputs": [
    {
     "data": {
      "application/vnd.jupyter.widget-view+json": {
       "model_id": "926572b8294e46d6840c2bc647e59c9c",
       "version_major": 2,
       "version_minor": 0
      },
      "text/plain": [
       "VBox()"
      ]
     },
     "metadata": {},
     "output_type": "display_data"
    },
    {
     "data": {
      "application/vnd.jupyter.widget-view+json": {
       "model_id": "",
       "version_major": 2,
       "version_minor": 0
      },
      "text/plain": [
       "FloatProgress(value=0.0, bar_style='info', description='Progress:', layout=Layout(height='25px', width='50%'),…"
      ]
     },
     "metadata": {},
     "output_type": "display_data"
    },
    {
     "name": "stdout",
     "output_type": "stream",
     "text": [
      "+----+-----+\n",
      "|  _1|   _2|\n",
      "+----+-----+\n",
      "| the|44647|\n",
      "|  of|28020|\n",
      "|    |27298|\n",
      "|  to|23208|\n",
      "| and|20444|\n",
      "|  in|13174|\n",
      "|that|12265|\n",
      "|   I|10880|\n",
      "|   a|10431|\n",
      "|  is| 7776|\n",
      "+----+-----+\n",
      "only showing top 10 rows"
     ]
    }
   ],
   "source": [
    "df.show(10)"
   ]
  },
  {
   "cell_type": "code",
   "execution_count": 22,
   "metadata": {},
   "outputs": [
    {
     "data": {
      "application/vnd.jupyter.widget-view+json": {
       "model_id": "cf80dce23e2544a48441324b3033aae8",
       "version_major": 2,
       "version_minor": 0
      },
      "text/plain": [
       "VBox()"
      ]
     },
     "metadata": {},
     "output_type": "display_data"
    },
    {
     "data": {
      "application/vnd.jupyter.widget-view+json": {
       "model_id": "",
       "version_major": 2,
       "version_minor": 0
      },
      "text/plain": [
       "FloatProgress(value=0.0, bar_style='info', description='Progress:', layout=Layout(height='25px', width='50%'),…"
      ]
     },
     "metadata": {},
     "output_type": "display_data"
    }
   ],
   "source": [
    "df.createOrReplaceTempView(\"wordcount\")"
   ]
  },
  {
   "cell_type": "code",
   "execution_count": 1,
   "metadata": {},
   "outputs": [
    {
     "data": {
      "application/vnd.jupyter.widget-view+json": {
       "model_id": "a6866f0c8367468285e8dd6bfa41e7e7",
       "version_major": 2,
       "version_minor": 0
      },
      "text/plain": [
       "VBox()"
      ]
     },
     "metadata": {},
     "output_type": "display_data"
    },
    {
     "name": "stdout",
     "output_type": "stream",
     "text": [
      "Starting Spark application\n"
     ]
    },
    {
     "data": {
      "text/html": [
       "<table>\n",
       "<tr><th>ID</th><th>YARN Application ID</th><th>Kind</th><th>State</th><th>Spark UI</th><th>Driver log</th><th>Current session?</th></tr><tr><td>0</td><td>application_1605804471894_0001</td><td>pyspark</td><td>idle</td><td><a target=\"_blank\" href=\"http://ip-172-31-2-65.ec2.internal:20888/proxy/application_1605804471894_0001/\">Link</a></td><td><a target=\"_blank\" href=\"http://ip-172-31-2-193.ec2.internal:8042/node/containerlogs/container_1605804471894_0001_01_000001/livy\">Link</a></td><td>✔</td></tr></table>"
      ],
      "text/plain": [
       "<IPython.core.display.HTML object>"
      ]
     },
     "metadata": {},
     "output_type": "display_data"
    },
    {
     "data": {
      "application/vnd.jupyter.widget-view+json": {
       "model_id": "",
       "version_major": 2,
       "version_minor": 0
      },
      "text/plain": [
       "FloatProgress(value=0.0, bar_style='info', description='Progress:', layout=Layout(height='25px', width='50%'),…"
      ]
     },
     "metadata": {},
     "output_type": "display_data"
    },
    {
     "name": "stdout",
     "output_type": "stream",
     "text": [
      "SparkSession available as 'spark'.\n"
     ]
    },
    {
     "data": {
      "application/vnd.jupyter.widget-view+json": {
       "model_id": "",
       "version_major": 2,
       "version_minor": 0
      },
      "text/plain": [
       "FloatProgress(value=0.0, bar_style='info', description='Progress:', layout=Layout(height='25px', width='50%'),…"
      ]
     },
     "metadata": {},
     "output_type": "display_data"
    }
   ],
   "source": [
    "casosCovid=sc.textFile('s3://topicostelematica/datasets/spark/Casos_positivos_de_COVID-19_en_Colombia.csv')"
   ]
  },
  {
   "cell_type": "code",
   "execution_count": 2,
   "metadata": {},
   "outputs": [
    {
     "data": {
      "application/vnd.jupyter.widget-view+json": {
       "model_id": "b126172e6c534d30b2cd4a1b8bbe090f",
       "version_major": 2,
       "version_minor": 0
      },
      "text/plain": [
       "VBox()"
      ]
     },
     "metadata": {},
     "output_type": "display_data"
    },
    {
     "data": {
      "application/vnd.jupyter.widget-view+json": {
       "model_id": "",
       "version_major": 2,
       "version_minor": 0
      },
      "text/plain": [
       "FloatProgress(value=0.0, bar_style='info', description='Progress:', layout=Layout(height='25px', width='50%'),…"
      ]
     },
     "metadata": {},
     "output_type": "display_data"
    },
    {
     "name": "stdout",
     "output_type": "stream",
     "text": [
      "ID de caso,Fecha de notificación,Codigo DIVIPOLA,Ciudad de ubicación,Departamento o Distrito ,atención,Edad,Sexo,Tipo,Estado,País de procedencia,FIS,Fecha de muerte,Fecha diagnostico,Fecha recuperado,fecha reporte web\n",
      "1,2020-03-02T00:00:00.000,11001,Bogotá D.C.,Bogotá D.C.,Recuperado,19,F,Importado,Leve,Italia,2020-02-27T00:00:00.000,-   -,2020-03-06T00:00:00.000,2020-03-13T00:00:00.000,2020-03-06T00:00:00.000\n",
      "2,2020-03-06T00:00:00.000,76111,Guadalajara de Buga,Valle del Cauca,Recuperado,34,M,Importado,Leve,España,2020-03-04T00:00:00.000,-   -,2020-03-09T00:00:00.000,2020-03-19T00:00:00.000,2020-03-09T00:00:00.000\n",
      "3,2020-03-07T00:00:00.000,5001,Medellín,Antioquia,Recuperado,50,F,Importado,Leve,España,2020-02-29T00:00:00.000,-   -,2020-03-09T00:00:00.000,2020-03-15T00:00:00.000,2020-03-09T00:00:00.000\n",
      "4,2020-03-09T00:00:00.000,5001,Medellín,Antioquia,Recuperado,55,M,Relacionado,Leve,Colombia,2020-03-06T00:00:00.000,-   -,2020-03-11T00:00:00.000,2020-03-26T00:00:00.000,2020-03-11T00:00:00.000\n",
      "5,2020-03-09T00:00:00.000,5001,Medellín,Antioquia,Recuperado,25,M,Relacionado,Leve,Colombia,2020-03-08T00:00:00.000,-   -,2020-03-11T00:00:00.000,2020-03-23T00:00:00.000,2020-03-11T00:00:00.000\n",
      "6,2020-03-10T00:00:00.000,5360,Itagüí,Antioquia,Recuperado,27,F,Relacionado,Leve,Colombia,2020-03-06T00:00:00.000,-   -,2020-03-11T00:00:00.000,2020-03-26T00:00:00.000,2020-03-11T00:00:00.000\n",
      "7,2020-03-08T00:00:00.000,13001,Cartagena de Indias,Cartagena D.T. y C.,Recuperado,85,F,Importado,Leve,Estados Unidos de América,2020-03-02T00:00:00.000,-   -,2020-03-11T00:00:00.000,2020-03-17T00:00:00.000,2020-03-11T00:00:00.000\n",
      "8,2020-03-09T00:00:00.000,11001,Bogotá D.C.,Bogotá D.C.,Recuperado,22,F,Importado,Leve,España,2020-03-06T00:00:00.000,-   -,2020-03-11T00:00:00.000,2020-03-21T00:00:00.000,2020-03-11T00:00:00.000\n",
      "9,2020-03-08T00:00:00.000,11001,Bogotá D.C.,Bogotá D.C.,Recuperado,28,F,Importado,Leve,España,2020-03-07T00:00:00.000,-   -,2020-03-11T00:00:00.000,2020-03-23T00:00:00.000,2020-03-11T00:00:00.000\n",
      "10,2020-03-12T00:00:00.000,11001,Bogotá D.C.,Bogotá D.C.,Recuperado,36,F,Importado,Leve,España,2020-03-06T00:00:00.000,-   -,2020-03-12T00:00:00.000,2020-03-21T00:00:00.000,2020-03-12T00:00:00.000\n",
      "11,2020-03-11T00:00:00.000,11001,Bogotá D.C.,Bogotá D.C.,Recuperado,42,F,Importado,Leve,España,2020-03-06T00:00:00.000,-   -,2020-03-12T00:00:00.000,2020-03-31T00:00:00.000,2020-03-12T00:00:00.000\n",
      "12,2020-03-10T00:00:00.000,41001,Neiva,Huila,Recuperado,74,F,Importado,Leve,Italia,2020-03-06T00:00:00.000,-   -,2020-03-12T00:00:00.000,2020-04-09T00:00:00.000,2020-03-12T00:00:00.000\n",
      "13,2020-03-10T00:00:00.000,41001,Neiva,Huila,Recuperado,68,F,Relacionado,Leve,Colombia,2020-03-06T00:00:00.000,-   -,2020-03-12T00:00:00.000,2020-03-30T00:00:00.000,2020-03-12T00:00:00.000\n",
      "14,2020-03-10T00:00:00.000,76520,Palmira,Valle del Cauca,Recuperado,48,M,Importado,Leve,España,2020-03-07T00:00:00.000,-   -,2020-03-13T00:00:00.000,2020-03-21T00:00:00.000,2020-03-13T00:00:00.000\n",
      "15,2020-03-13T00:00:00.000,50001,Villavicencio,Meta,Recuperado,30,F,Importado,Leve,España,2020-03-09T00:00:00.000,-   -,2020-03-13T00:00:00.000,2020-03-23T00:00:00.000,2020-03-13T00:00:00.000\n",
      "16,2020-03-11T00:00:00.000,11001,Bogotá D.C.,Bogotá D.C.,Recuperado,61,F,Importado,Leve,Italia,2020-03-08T00:00:00.000,-   -,2020-03-13T00:00:00.000,2020-03-23T00:00:00.000,2020-03-13T00:00:00.000\n",
      "17,2020-03-11T00:00:00.000,11001,Bogotá D.C.,Bogotá D.C.,Recuperado,73,F,Importado,Leve,España,2020-02-28T00:00:00.000,-   -,2020-03-14T00:00:00.000,2020-03-14T00:00:00.000,2020-03-14T00:00:00.000\n",
      "18,2020-03-11T00:00:00.000,11001,Bogotá D.C.,Bogotá D.C.,Recuperado,54,M,Importado,Leve,España,2020-03-07T00:00:00.000,-   -,2020-03-14T00:00:00.000,2020-04-07T00:00:00.000,2020-03-14T00:00:00.000\n",
      "19,2020-03-12T00:00:00.000,11001,Bogotá D.C.,Bogotá D.C.,Recuperado,54,F,Relacionado,Leve,Colombia,2020-03-09T00:00:00.000,-   -,2020-03-14T00:00:00.000,2020-03-24T00:00:00.000,2020-03-14T00:00:00.000"
     ]
    }
   ],
   "source": [
    "for line in casosCovid.take(20):\n",
    "    print (line)"
   ]
  },
  {
   "cell_type": "code",
   "execution_count": 5,
   "metadata": {},
   "outputs": [
    {
     "data": {
      "application/vnd.jupyter.widget-view+json": {
       "model_id": "d109027d6d664a619e297db8c50f06ed",
       "version_major": 2,
       "version_minor": 0
      },
      "text/plain": [
       "VBox()"
      ]
     },
     "metadata": {},
     "output_type": "display_data"
    },
    {
     "data": {
      "application/vnd.jupyter.widget-view+json": {
       "model_id": "",
       "version_major": 2,
       "version_minor": 0
      },
      "text/plain": [
       "FloatProgress(value=0.0, bar_style='info', description='Progress:', layout=Layout(height='25px', width='50%'),…"
      ]
     },
     "metadata": {},
     "output_type": "display_data"
    }
   ],
   "source": [
    "covidDf=spark.read.csv(\"s3://topicostelematica/datasets/spark/Casos_positivos_de_COVID-19_en_Colombia.csv\")"
   ]
  },
  {
   "cell_type": "code",
   "execution_count": 6,
   "metadata": {},
   "outputs": [
    {
     "data": {
      "application/vnd.jupyter.widget-view+json": {
       "model_id": "047d501c5733484f8db99bb28a0d56b1",
       "version_major": 2,
       "version_minor": 0
      },
      "text/plain": [
       "VBox()"
      ]
     },
     "metadata": {},
     "output_type": "display_data"
    },
    {
     "data": {
      "application/vnd.jupyter.widget-view+json": {
       "model_id": "",
       "version_major": 2,
       "version_minor": 0
      },
      "text/plain": [
       "FloatProgress(value=0.0, bar_style='info', description='Progress:', layout=Layout(height='25px', width='50%'),…"
      ]
     },
     "metadata": {},
     "output_type": "display_data"
    },
    {
     "name": "stdout",
     "output_type": "stream",
     "text": [
      "+----------+--------------------+---------------+-------------------+--------------------+----------+----+----+-----------+------+--------------------+--------------------+---------------+--------------------+--------------------+--------------------+\n",
      "|       _c0|                 _c1|            _c2|                _c3|                 _c4|       _c5| _c6| _c7|        _c8|   _c9|                _c10|                _c11|           _c12|                _c13|                _c14|                _c15|\n",
      "+----------+--------------------+---------------+-------------------+--------------------+----------+----+----+-----------+------+--------------------+--------------------+---------------+--------------------+--------------------+--------------------+\n",
      "|ID de caso|Fecha de notifica...|Codigo DIVIPOLA|Ciudad de ubicación|Departamento o Di...|  atención|Edad|Sexo|       Tipo|Estado| País de procedencia|                 FIS|Fecha de muerte|   Fecha diagnostico|    Fecha recuperado|   fecha reporte web|\n",
      "|         1|2020-03-02T00:00:...|          11001|        Bogotá D.C.|         Bogotá D.C.|Recuperado|  19|   F|  Importado|  Leve|              Italia|2020-02-27T00:00:...|          -   -|2020-03-06T00:00:...|2020-03-13T00:00:...|2020-03-06T00:00:...|\n",
      "|         2|2020-03-06T00:00:...|          76111|Guadalajara de Buga|     Valle del Cauca|Recuperado|  34|   M|  Importado|  Leve|              España|2020-03-04T00:00:...|          -   -|2020-03-09T00:00:...|2020-03-19T00:00:...|2020-03-09T00:00:...|\n",
      "|         3|2020-03-07T00:00:...|           5001|           Medellín|           Antioquia|Recuperado|  50|   F|  Importado|  Leve|              España|2020-02-29T00:00:...|          -   -|2020-03-09T00:00:...|2020-03-15T00:00:...|2020-03-09T00:00:...|\n",
      "|         4|2020-03-09T00:00:...|           5001|           Medellín|           Antioquia|Recuperado|  55|   M|Relacionado|  Leve|            Colombia|2020-03-06T00:00:...|          -   -|2020-03-11T00:00:...|2020-03-26T00:00:...|2020-03-11T00:00:...|\n",
      "|         5|2020-03-09T00:00:...|           5001|           Medellín|           Antioquia|Recuperado|  25|   M|Relacionado|  Leve|            Colombia|2020-03-08T00:00:...|          -   -|2020-03-11T00:00:...|2020-03-23T00:00:...|2020-03-11T00:00:...|\n",
      "|         6|2020-03-10T00:00:...|           5360|             Itagüí|           Antioquia|Recuperado|  27|   F|Relacionado|  Leve|            Colombia|2020-03-06T00:00:...|          -   -|2020-03-11T00:00:...|2020-03-26T00:00:...|2020-03-11T00:00:...|\n",
      "|         7|2020-03-08T00:00:...|          13001|Cartagena de Indias| Cartagena D.T. y C.|Recuperado|  85|   F|  Importado|  Leve|Estados Unidos de...|2020-03-02T00:00:...|          -   -|2020-03-11T00:00:...|2020-03-17T00:00:...|2020-03-11T00:00:...|\n",
      "|         8|2020-03-09T00:00:...|          11001|        Bogotá D.C.|         Bogotá D.C.|Recuperado|  22|   F|  Importado|  Leve|              España|2020-03-06T00:00:...|          -   -|2020-03-11T00:00:...|2020-03-21T00:00:...|2020-03-11T00:00:...|\n",
      "|         9|2020-03-08T00:00:...|          11001|        Bogotá D.C.|         Bogotá D.C.|Recuperado|  28|   F|  Importado|  Leve|              España|2020-03-07T00:00:...|          -   -|2020-03-11T00:00:...|2020-03-23T00:00:...|2020-03-11T00:00:...|\n",
      "|        10|2020-03-12T00:00:...|          11001|        Bogotá D.C.|         Bogotá D.C.|Recuperado|  36|   F|  Importado|  Leve|              España|2020-03-06T00:00:...|          -   -|2020-03-12T00:00:...|2020-03-21T00:00:...|2020-03-12T00:00:...|\n",
      "|        11|2020-03-11T00:00:...|          11001|        Bogotá D.C.|         Bogotá D.C.|Recuperado|  42|   F|  Importado|  Leve|              España|2020-03-06T00:00:...|          -   -|2020-03-12T00:00:...|2020-03-31T00:00:...|2020-03-12T00:00:...|\n",
      "|        12|2020-03-10T00:00:...|          41001|              Neiva|               Huila|Recuperado|  74|   F|  Importado|  Leve|              Italia|2020-03-06T00:00:...|          -   -|2020-03-12T00:00:...|2020-04-09T00:00:...|2020-03-12T00:00:...|\n",
      "|        13|2020-03-10T00:00:...|          41001|              Neiva|               Huila|Recuperado|  68|   F|Relacionado|  Leve|            Colombia|2020-03-06T00:00:...|          -   -|2020-03-12T00:00:...|2020-03-30T00:00:...|2020-03-12T00:00:...|\n",
      "|        14|2020-03-10T00:00:...|          76520|            Palmira|     Valle del Cauca|Recuperado|  48|   M|  Importado|  Leve|              España|2020-03-07T00:00:...|          -   -|2020-03-13T00:00:...|2020-03-21T00:00:...|2020-03-13T00:00:...|\n",
      "|        15|2020-03-13T00:00:...|          50001|      Villavicencio|                Meta|Recuperado|  30|   F|  Importado|  Leve|              España|2020-03-09T00:00:...|          -   -|2020-03-13T00:00:...|2020-03-23T00:00:...|2020-03-13T00:00:...|\n",
      "|        16|2020-03-11T00:00:...|          11001|        Bogotá D.C.|         Bogotá D.C.|Recuperado|  61|   F|  Importado|  Leve|              Italia|2020-03-08T00:00:...|          -   -|2020-03-13T00:00:...|2020-03-23T00:00:...|2020-03-13T00:00:...|\n",
      "|        17|2020-03-11T00:00:...|          11001|        Bogotá D.C.|         Bogotá D.C.|Recuperado|  73|   F|  Importado|  Leve|              España|2020-02-28T00:00:...|          -   -|2020-03-14T00:00:...|2020-03-14T00:00:...|2020-03-14T00:00:...|\n",
      "|        18|2020-03-11T00:00:...|          11001|        Bogotá D.C.|         Bogotá D.C.|Recuperado|  54|   M|  Importado|  Leve|              España|2020-03-07T00:00:...|          -   -|2020-03-14T00:00:...|2020-04-07T00:00:...|2020-03-14T00:00:...|\n",
      "|        19|2020-03-12T00:00:...|          11001|        Bogotá D.C.|         Bogotá D.C.|Recuperado|  54|   F|Relacionado|  Leve|            Colombia|2020-03-09T00:00:...|          -   -|2020-03-14T00:00:...|2020-03-24T00:00:...|2020-03-14T00:00:...|\n",
      "+----------+--------------------+---------------+-------------------+--------------------+----------+----+----+-----------+------+--------------------+--------------------+---------------+--------------------+--------------------+--------------------+\n",
      "only showing top 20 rows"
     ]
    }
   ],
   "source": [
    "covidDf.show(20)"
   ]
  },
  {
   "cell_type": "code",
   "execution_count": 8,
   "metadata": {},
   "outputs": [
    {
     "data": {
      "application/vnd.jupyter.widget-view+json": {
       "model_id": "332f9262a3a14f46abcc2bdfc8accf1b",
       "version_major": 2,
       "version_minor": 0
      },
      "text/plain": [
       "VBox()"
      ]
     },
     "metadata": {},
     "output_type": "display_data"
    },
    {
     "data": {
      "application/vnd.jupyter.widget-view+json": {
       "model_id": "",
       "version_major": 2,
       "version_minor": 0
      },
      "text/plain": [
       "FloatProgress(value=0.0, bar_style='info', description='Progress:', layout=Layout(height='25px', width='50%'),…"
      ]
     },
     "metadata": {},
     "output_type": "display_data"
    }
   ],
   "source": [
    "covidDf=spark.read.option(\"header\",True).csv(\"s3://topicostelematica/datasets/spark/Casos_positivos_de_COVID-19_en_Colombia.csv\")"
   ]
  },
  {
   "cell_type": "code",
   "execution_count": 9,
   "metadata": {},
   "outputs": [
    {
     "data": {
      "application/vnd.jupyter.widget-view+json": {
       "model_id": "c6d33f6a07bc437faf9301eefbeb8aa9",
       "version_major": 2,
       "version_minor": 0
      },
      "text/plain": [
       "VBox()"
      ]
     },
     "metadata": {},
     "output_type": "display_data"
    },
    {
     "data": {
      "application/vnd.jupyter.widget-view+json": {
       "model_id": "",
       "version_major": 2,
       "version_minor": 0
      },
      "text/plain": [
       "FloatProgress(value=0.0, bar_style='info', description='Progress:', layout=Layout(height='25px', width='50%'),…"
      ]
     },
     "metadata": {},
     "output_type": "display_data"
    },
    {
     "name": "stdout",
     "output_type": "stream",
     "text": [
      "+----------+---------------------+---------------+-------------------+------------------------+----------+----+----+-----------+------+--------------------+--------------------+---------------+--------------------+--------------------+--------------------+\n",
      "|ID de caso|Fecha de notificación|Codigo DIVIPOLA|Ciudad de ubicación|Departamento o Distrito |  atención|Edad|Sexo|       Tipo|Estado| País de procedencia|                 FIS|Fecha de muerte|   Fecha diagnostico|    Fecha recuperado|   fecha reporte web|\n",
      "+----------+---------------------+---------------+-------------------+------------------------+----------+----+----+-----------+------+--------------------+--------------------+---------------+--------------------+--------------------+--------------------+\n",
      "|         1| 2020-03-02T00:00:...|          11001|        Bogotá D.C.|             Bogotá D.C.|Recuperado|  19|   F|  Importado|  Leve|              Italia|2020-02-27T00:00:...|          -   -|2020-03-06T00:00:...|2020-03-13T00:00:...|2020-03-06T00:00:...|\n",
      "|         2| 2020-03-06T00:00:...|          76111|Guadalajara de Buga|         Valle del Cauca|Recuperado|  34|   M|  Importado|  Leve|              España|2020-03-04T00:00:...|          -   -|2020-03-09T00:00:...|2020-03-19T00:00:...|2020-03-09T00:00:...|\n",
      "|         3| 2020-03-07T00:00:...|           5001|           Medellín|               Antioquia|Recuperado|  50|   F|  Importado|  Leve|              España|2020-02-29T00:00:...|          -   -|2020-03-09T00:00:...|2020-03-15T00:00:...|2020-03-09T00:00:...|\n",
      "|         4| 2020-03-09T00:00:...|           5001|           Medellín|               Antioquia|Recuperado|  55|   M|Relacionado|  Leve|            Colombia|2020-03-06T00:00:...|          -   -|2020-03-11T00:00:...|2020-03-26T00:00:...|2020-03-11T00:00:...|\n",
      "|         5| 2020-03-09T00:00:...|           5001|           Medellín|               Antioquia|Recuperado|  25|   M|Relacionado|  Leve|            Colombia|2020-03-08T00:00:...|          -   -|2020-03-11T00:00:...|2020-03-23T00:00:...|2020-03-11T00:00:...|\n",
      "|         6| 2020-03-10T00:00:...|           5360|             Itagüí|               Antioquia|Recuperado|  27|   F|Relacionado|  Leve|            Colombia|2020-03-06T00:00:...|          -   -|2020-03-11T00:00:...|2020-03-26T00:00:...|2020-03-11T00:00:...|\n",
      "|         7| 2020-03-08T00:00:...|          13001|Cartagena de Indias|     Cartagena D.T. y C.|Recuperado|  85|   F|  Importado|  Leve|Estados Unidos de...|2020-03-02T00:00:...|          -   -|2020-03-11T00:00:...|2020-03-17T00:00:...|2020-03-11T00:00:...|\n",
      "|         8| 2020-03-09T00:00:...|          11001|        Bogotá D.C.|             Bogotá D.C.|Recuperado|  22|   F|  Importado|  Leve|              España|2020-03-06T00:00:...|          -   -|2020-03-11T00:00:...|2020-03-21T00:00:...|2020-03-11T00:00:...|\n",
      "|         9| 2020-03-08T00:00:...|          11001|        Bogotá D.C.|             Bogotá D.C.|Recuperado|  28|   F|  Importado|  Leve|              España|2020-03-07T00:00:...|          -   -|2020-03-11T00:00:...|2020-03-23T00:00:...|2020-03-11T00:00:...|\n",
      "|        10| 2020-03-12T00:00:...|          11001|        Bogotá D.C.|             Bogotá D.C.|Recuperado|  36|   F|  Importado|  Leve|              España|2020-03-06T00:00:...|          -   -|2020-03-12T00:00:...|2020-03-21T00:00:...|2020-03-12T00:00:...|\n",
      "|        11| 2020-03-11T00:00:...|          11001|        Bogotá D.C.|             Bogotá D.C.|Recuperado|  42|   F|  Importado|  Leve|              España|2020-03-06T00:00:...|          -   -|2020-03-12T00:00:...|2020-03-31T00:00:...|2020-03-12T00:00:...|\n",
      "|        12| 2020-03-10T00:00:...|          41001|              Neiva|                   Huila|Recuperado|  74|   F|  Importado|  Leve|              Italia|2020-03-06T00:00:...|          -   -|2020-03-12T00:00:...|2020-04-09T00:00:...|2020-03-12T00:00:...|\n",
      "|        13| 2020-03-10T00:00:...|          41001|              Neiva|                   Huila|Recuperado|  68|   F|Relacionado|  Leve|            Colombia|2020-03-06T00:00:...|          -   -|2020-03-12T00:00:...|2020-03-30T00:00:...|2020-03-12T00:00:...|\n",
      "|        14| 2020-03-10T00:00:...|          76520|            Palmira|         Valle del Cauca|Recuperado|  48|   M|  Importado|  Leve|              España|2020-03-07T00:00:...|          -   -|2020-03-13T00:00:...|2020-03-21T00:00:...|2020-03-13T00:00:...|\n",
      "|        15| 2020-03-13T00:00:...|          50001|      Villavicencio|                    Meta|Recuperado|  30|   F|  Importado|  Leve|              España|2020-03-09T00:00:...|          -   -|2020-03-13T00:00:...|2020-03-23T00:00:...|2020-03-13T00:00:...|\n",
      "|        16| 2020-03-11T00:00:...|          11001|        Bogotá D.C.|             Bogotá D.C.|Recuperado|  61|   F|  Importado|  Leve|              Italia|2020-03-08T00:00:...|          -   -|2020-03-13T00:00:...|2020-03-23T00:00:...|2020-03-13T00:00:...|\n",
      "|        17| 2020-03-11T00:00:...|          11001|        Bogotá D.C.|             Bogotá D.C.|Recuperado|  73|   F|  Importado|  Leve|              España|2020-02-28T00:00:...|          -   -|2020-03-14T00:00:...|2020-03-14T00:00:...|2020-03-14T00:00:...|\n",
      "|        18| 2020-03-11T00:00:...|          11001|        Bogotá D.C.|             Bogotá D.C.|Recuperado|  54|   M|  Importado|  Leve|              España|2020-03-07T00:00:...|          -   -|2020-03-14T00:00:...|2020-04-07T00:00:...|2020-03-14T00:00:...|\n",
      "|        19| 2020-03-12T00:00:...|          11001|        Bogotá D.C.|             Bogotá D.C.|Recuperado|  54|   F|Relacionado|  Leve|            Colombia|2020-03-09T00:00:...|          -   -|2020-03-14T00:00:...|2020-03-24T00:00:...|2020-03-14T00:00:...|\n",
      "|        20| 2020-03-11T00:00:...|           5001|           Medellín|               Antioquia|Recuperado|  26|   F|Relacionado|  Leve|            Colombia|2020-03-09T00:00:...|          -   -|2020-03-14T00:00:...|2020-03-24T00:00:...|2020-03-14T00:00:...|\n",
      "+----------+---------------------+---------------+-------------------+------------------------+----------+----+----+-----------+------+--------------------+--------------------+---------------+--------------------+--------------------+--------------------+\n",
      "only showing top 20 rows"
     ]
    }
   ],
   "source": [
    "covidDf.show(20)"
   ]
  },
  {
   "cell_type": "code",
   "execution_count": 13,
   "metadata": {},
   "outputs": [
    {
     "data": {
      "application/vnd.jupyter.widget-view+json": {
       "model_id": "cc3eb3def02a45d0a974b7626664b0b5",
       "version_major": 2,
       "version_minor": 0
      },
      "text/plain": [
       "VBox()"
      ]
     },
     "metadata": {},
     "output_type": "display_data"
    },
    {
     "data": {
      "application/vnd.jupyter.widget-view+json": {
       "model_id": "",
       "version_major": 2,
       "version_minor": 0
      },
      "text/plain": [
       "FloatProgress(value=0.0, bar_style='info', description='Progress:', layout=Layout(height='25px', width='50%'),…"
      ]
     },
     "metadata": {},
     "output_type": "display_data"
    },
    {
     "name": "stderr",
     "output_type": "stream",
     "text": [
      "name 'display' is not defined\n",
      "Traceback (most recent call last):\n",
      "NameError: name 'display' is not defined\n",
      "\n"
     ]
    }
   ],
   "source": [
    "filterColombia = covidDf.filter(col(\"País de procedencia\") == \"Colombia\")\n",
    "display(filterDF)"
   ]
  },
  {
   "cell_type": "code",
   "execution_count": 11,
   "metadata": {},
   "outputs": [
    {
     "data": {
      "application/vnd.jupyter.widget-view+json": {
       "model_id": "78a20c2eaf3d43528a995d6c3b640942",
       "version_major": 2,
       "version_minor": 0
      },
      "text/plain": [
       "VBox()"
      ]
     },
     "metadata": {},
     "output_type": "display_data"
    },
    {
     "data": {
      "application/vnd.jupyter.widget-view+json": {
       "model_id": "",
       "version_major": 2,
       "version_minor": 0
      },
      "text/plain": [
       "FloatProgress(value=0.0, bar_style='info', description='Progress:', layout=Layout(height='25px', width='50%'),…"
      ]
     },
     "metadata": {},
     "output_type": "display_data"
    }
   ],
   "source": [
    "from pyspark.sql.functions import col\n",
    "\n"
   ]
  },
  {
   "cell_type": "code",
   "execution_count": 14,
   "metadata": {},
   "outputs": [
    {
     "data": {
      "application/vnd.jupyter.widget-view+json": {
       "model_id": "16e05a74ab264d7da4cd8e8bed4f81a6",
       "version_major": 2,
       "version_minor": 0
      },
      "text/plain": [
       "VBox()"
      ]
     },
     "metadata": {},
     "output_type": "display_data"
    },
    {
     "data": {
      "application/vnd.jupyter.widget-view+json": {
       "model_id": "",
       "version_major": 2,
       "version_minor": 0
      },
      "text/plain": [
       "FloatProgress(value=0.0, bar_style='info', description='Progress:', layout=Layout(height='25px', width='50%'),…"
      ]
     },
     "metadata": {},
     "output_type": "display_data"
    }
   ],
   "source": [
    "from pyspark.sql.functions import col\n",
    "\n"
   ]
  },
  {
   "cell_type": "code",
   "execution_count": 16,
   "metadata": {},
   "outputs": [
    {
     "data": {
      "application/vnd.jupyter.widget-view+json": {
       "model_id": "bcef7878703a4727b120a92c69b9478f",
       "version_major": 2,
       "version_minor": 0
      },
      "text/plain": [
       "VBox()"
      ]
     },
     "metadata": {},
     "output_type": "display_data"
    },
    {
     "data": {
      "application/vnd.jupyter.widget-view+json": {
       "model_id": "",
       "version_major": 2,
       "version_minor": 0
      },
      "text/plain": [
       "FloatProgress(value=0.0, bar_style='info', description='Progress:', layout=Layout(height='25px', width='50%'),…"
      ]
     },
     "metadata": {},
     "output_type": "display_data"
    },
    {
     "name": "stdout",
     "output_type": "stream",
     "text": [
      "+----------+---------------------+---------------+-------------------+------------------------+----------+----+----+-----------+------+-------------------+--------------------+---------------+--------------------+--------------------+--------------------+\n",
      "|ID de caso|Fecha de notificación|Codigo DIVIPOLA|Ciudad de ubicación|Departamento o Distrito |  atención|Edad|Sexo|       Tipo|Estado|País de procedencia|                 FIS|Fecha de muerte|   Fecha diagnostico|    Fecha recuperado|   fecha reporte web|\n",
      "+----------+---------------------+---------------+-------------------+------------------------+----------+----+----+-----------+------+-------------------+--------------------+---------------+--------------------+--------------------+--------------------+\n",
      "|         4| 2020-03-09T00:00:...|           5001|           Medellín|               Antioquia|Recuperado|  55|   M|Relacionado|  Leve|           Colombia|2020-03-06T00:00:...|          -   -|2020-03-11T00:00:...|2020-03-26T00:00:...|2020-03-11T00:00:...|\n",
      "|         5| 2020-03-09T00:00:...|           5001|           Medellín|               Antioquia|Recuperado|  25|   M|Relacionado|  Leve|           Colombia|2020-03-08T00:00:...|          -   -|2020-03-11T00:00:...|2020-03-23T00:00:...|2020-03-11T00:00:...|\n",
      "|         6| 2020-03-10T00:00:...|           5360|             Itagüí|               Antioquia|Recuperado|  27|   F|Relacionado|  Leve|           Colombia|2020-03-06T00:00:...|          -   -|2020-03-11T00:00:...|2020-03-26T00:00:...|2020-03-11T00:00:...|\n",
      "|        13| 2020-03-10T00:00:...|          41001|              Neiva|                   Huila|Recuperado|  68|   F|Relacionado|  Leve|           Colombia|2020-03-06T00:00:...|          -   -|2020-03-12T00:00:...|2020-03-30T00:00:...|2020-03-12T00:00:...|\n",
      "|        19| 2020-03-12T00:00:...|          11001|        Bogotá D.C.|             Bogotá D.C.|Recuperado|  54|   F|Relacionado|  Leve|           Colombia|2020-03-09T00:00:...|          -   -|2020-03-14T00:00:...|2020-03-24T00:00:...|2020-03-14T00:00:...|\n",
      "|        20| 2020-03-11T00:00:...|           5001|           Medellín|               Antioquia|Recuperado|  26|   F|Relacionado|  Leve|           Colombia|2020-03-09T00:00:...|          -   -|2020-03-14T00:00:...|2020-03-24T00:00:...|2020-03-14T00:00:...|\n",
      "|        21| 2020-03-11T00:00:...|           5001|           Medellín|               Antioquia|Recuperado|  28|   M|Relacionado|  Leve|           Colombia|2020-03-10T00:00:...|          -   -|2020-03-14T00:00:...|2020-04-10T00:00:...|2020-03-14T00:00:...|\n",
      "|        23| 2020-03-12T00:00:...|          11001|        Bogotá D.C.|             Bogotá D.C.|Recuperado|  23|   M|Relacionado|  Leve|           Colombia|2020-03-08T00:00:...|          -   -|2020-03-14T00:00:...|2020-03-23T00:00:...|2020-03-14T00:00:...|\n",
      "|        26| 2020-03-15T00:00:...|          13001|Cartagena de Indias|     Cartagena D.T. y C.|Recuperado|  30|   F|Relacionado|  Leve|           Colombia|        Asintomático|          -   -|2020-03-15T00:00:...|2020-03-25T00:00:...|2020-03-15T00:00:...|\n",
      "|        27| 2020-03-15T00:00:...|          13001|Cartagena de Indias|     Cartagena D.T. y C.|Recuperado|  30|   F|Relacionado|  Leve|           Colombia|        Asintomático|          -   -|2020-03-15T00:00:...|2020-03-25T00:00:...|2020-03-15T00:00:...|\n",
      "|        29| 2020-03-12T00:00:...|          41001|              Neiva|                   Huila|Recuperado|  55|   F|Relacionado|  Leve|           Colombia|2020-03-10T00:00:...|          -   -|2020-03-12T00:00:...|2020-03-25T00:00:...|2020-03-12T00:00:...|\n",
      "|        37| 2020-03-13T00:00:...|          11001|        Bogotá D.C.|             Bogotá D.C.|Recuperado|  45|   F|Relacionado|  Leve|           Colombia|2020-03-12T00:00:...|          -   -|2020-03-14T00:00:...|2020-03-27T00:00:...|2020-03-14T00:00:...|\n",
      "|        41| 2020-03-14T00:00:...|          41001|              Neiva|                   Huila|Recuperado|  79|   M|Relacionado|  Leve|           Colombia|        Asintomático|          -   -|2020-03-14T00:00:...|2020-03-28T00:00:...|2020-03-14T00:00:...|\n",
      "|        42| 2020-03-14T00:00:...|          41001|              Neiva|                   Huila|Recuperado|  52|   F|Relacionado|  Leve|           Colombia|2020-03-10T00:00:...|          -   -|2020-03-14T00:00:...|2020-03-24T00:00:...|2020-03-14T00:00:...|\n",
      "|        43| 2020-03-14T00:00:...|          41001|              Neiva|                   Huila|Recuperado|  71|   M|Relacionado|  Leve|           Colombia|2020-03-09T00:00:...|          -   -|2020-03-14T00:00:...|2020-03-24T00:00:...|2020-03-14T00:00:...|\n",
      "|        44| 2020-03-14T00:00:...|          41001|              Neiva|                   Huila|Recuperado|  24|   F|Relacionado|  Leve|           Colombia|2020-03-10T00:00:...|          -   -|2020-03-14T00:00:...|2020-03-24T00:00:...|2020-03-14T00:00:...|\n",
      "|        46| 2020-03-13T00:00:...|          11001|        Bogotá D.C.|             Bogotá D.C.|      Casa|  44|   F|Relacionado|  Leve|           Colombia|2020-03-06T00:00:...|          -   -|2020-03-15T00:00:...|               -   -|2020-03-15T00:00:...|\n",
      "|        47| 2020-03-13T00:00:...|          11001|        Bogotá D.C.|             Bogotá D.C.|Recuperado|  38|   M|Relacionado|  Leve|           Colombia|2020-03-07T00:00:...|          -   -|2020-03-15T00:00:...|2020-04-07T00:00:...|2020-03-15T00:00:...|\n",
      "|        48| 2020-03-15T00:00:...|          11001|        Bogotá D.C.|             Bogotá D.C.|Recuperado|  31|   M|Relacionado|  Leve|           Colombia|        Asintomático|          -   -|2020-03-16T00:00:...|2020-03-27T00:00:...|2020-03-16T00:00:...|\n",
      "|        55| 2020-03-16T00:00:...|          11001|        Bogotá D.C.|             Bogotá D.C.|Recuperado|  58|   F|Relacionado|  Leve|           Colombia|2020-03-05T00:00:...|          -   -|2020-03-16T00:00:...|2020-03-20T00:00:...|2020-03-16T00:00:...|\n",
      "+----------+---------------------+---------------+-------------------+------------------------+----------+----+----+-----------+------+-------------------+--------------------+---------------+--------------------+--------------------+--------------------+\n",
      "only showing top 20 rows"
     ]
    }
   ],
   "source": [
    "filterColombia = covidDf.filter(col(\"País de procedencia\") == \"Colombia\")\n",
    "filterColombia.show(20)"
   ]
  },
  {
   "cell_type": "code",
   "execution_count": 18,
   "metadata": {},
   "outputs": [
    {
     "data": {
      "application/vnd.jupyter.widget-view+json": {
       "model_id": "9f02d369d7a9478481aabbe293a71874",
       "version_major": 2,
       "version_minor": 0
      },
      "text/plain": [
       "VBox()"
      ]
     },
     "metadata": {},
     "output_type": "display_data"
    },
    {
     "data": {
      "application/vnd.jupyter.widget-view+json": {
       "model_id": "",
       "version_major": 2,
       "version_minor": 0
      },
      "text/plain": [
       "FloatProgress(value=0.0, bar_style='info', description='Progress:', layout=Layout(height='25px', width='50%'),…"
      ]
     },
     "metadata": {},
     "output_type": "display_data"
    },
    {
     "name": "stdout",
     "output_type": "stream",
     "text": [
      "+----------+---------------------+---------------+-------------------+------------------------+----------+----+----+-----------+------+-------------------+--------------------+---------------+--------------------+--------------------+--------------------+\n",
      "|ID de caso|Fecha de notificación|Codigo DIVIPOLA|Ciudad de ubicación|Departamento o Distrito |  atención|Edad|Sexo|       Tipo|Estado|País de procedencia|                 FIS|Fecha de muerte|   Fecha diagnostico|    Fecha recuperado|   fecha reporte web|\n",
      "+----------+---------------------+---------------+-------------------+------------------------+----------+----+----+-----------+------+-------------------+--------------------+---------------+--------------------+--------------------+--------------------+\n",
      "|         4| 2020-03-09T00:00:...|           5001|           Medellín|               Antioquia|Recuperado|  55|   M|Relacionado|  Leve|           Colombia|2020-03-06T00:00:...|          -   -|2020-03-11T00:00:...|2020-03-26T00:00:...|2020-03-11T00:00:...|\n",
      "|        13| 2020-03-10T00:00:...|          41001|              Neiva|                   Huila|Recuperado|  68|   F|Relacionado|  Leve|           Colombia|2020-03-06T00:00:...|          -   -|2020-03-12T00:00:...|2020-03-30T00:00:...|2020-03-12T00:00:...|\n",
      "|        19| 2020-03-12T00:00:...|          11001|        Bogotá D.C.|             Bogotá D.C.|Recuperado|  54|   F|Relacionado|  Leve|           Colombia|2020-03-09T00:00:...|          -   -|2020-03-14T00:00:...|2020-03-24T00:00:...|2020-03-14T00:00:...|\n",
      "|        29| 2020-03-12T00:00:...|          41001|              Neiva|                   Huila|Recuperado|  55|   F|Relacionado|  Leve|           Colombia|2020-03-10T00:00:...|          -   -|2020-03-12T00:00:...|2020-03-25T00:00:...|2020-03-12T00:00:...|\n",
      "|        37| 2020-03-13T00:00:...|          11001|        Bogotá D.C.|             Bogotá D.C.|Recuperado|  45|   F|Relacionado|  Leve|           Colombia|2020-03-12T00:00:...|          -   -|2020-03-14T00:00:...|2020-03-27T00:00:...|2020-03-14T00:00:...|\n",
      "|        41| 2020-03-14T00:00:...|          41001|              Neiva|                   Huila|Recuperado|  79|   M|Relacionado|  Leve|           Colombia|        Asintomático|          -   -|2020-03-14T00:00:...|2020-03-28T00:00:...|2020-03-14T00:00:...|\n",
      "|        42| 2020-03-14T00:00:...|          41001|              Neiva|                   Huila|Recuperado|  52|   F|Relacionado|  Leve|           Colombia|2020-03-10T00:00:...|          -   -|2020-03-14T00:00:...|2020-03-24T00:00:...|2020-03-14T00:00:...|\n",
      "|        43| 2020-03-14T00:00:...|          41001|              Neiva|                   Huila|Recuperado|  71|   M|Relacionado|  Leve|           Colombia|2020-03-09T00:00:...|          -   -|2020-03-14T00:00:...|2020-03-24T00:00:...|2020-03-14T00:00:...|\n",
      "|        46| 2020-03-13T00:00:...|          11001|        Bogotá D.C.|             Bogotá D.C.|      Casa|  44|   F|Relacionado|  Leve|           Colombia|2020-03-06T00:00:...|          -   -|2020-03-15T00:00:...|               -   -|2020-03-15T00:00:...|\n",
      "|        55| 2020-03-16T00:00:...|          11001|        Bogotá D.C.|             Bogotá D.C.|Recuperado|  58|   F|Relacionado|  Leve|           Colombia|2020-03-05T00:00:...|          -   -|2020-03-16T00:00:...|2020-03-20T00:00:...|2020-03-16T00:00:...|\n",
      "|        65| 2020-03-16T00:00:...|          11001|        Bogotá D.C.|             Bogotá D.C.|Recuperado|  64|   M|Relacionado|  Leve|           Colombia|2020-03-15T00:00:...|          -   -|2020-03-16T00:00:...|2020-04-01T00:00:...|2020-03-16T00:00:...|\n",
      "|        71| 2020-03-17T00:00:...|          54001|             Cúcuta|      Norte de Santander|Recuperado|  54|   M|Relacionado|  Leve|           Colombia|2020-03-14T00:00:...|          -   -|2020-03-17T00:00:...|2020-04-25T00:00:...|2020-03-17T00:00:...|\n",
      "|        73| 2020-03-16T00:00:...|          13001|Cartagena de Indias|     Cartagena D.T. y C.|Recuperado|  54|   F|Relacionado|  Leve|           Colombia|2020-03-14T00:00:...|          -   -|2020-03-17T00:00:...|2020-03-28T00:00:...|2020-03-17T00:00:...|\n",
      "|        75| 2020-03-17T00:00:...|          11001|        Bogotá D.C.|             Bogotá D.C.|Recuperado|  49|   F|Relacionado|  Leve|           Colombia|2020-03-11T00:00:...|          -   -|2020-03-17T00:00:...|2020-03-26T00:00:...|2020-03-17T00:00:...|\n",
      "|        80| 2020-03-14T00:00:...|          76520|            Palmira|         Valle del Cauca|Recuperado|  53|   F|Relacionado|  Leve|           Colombia|2020-03-13T00:00:...|          -   -|2020-03-17T00:00:...|2020-03-28T00:00:...|2020-03-17T00:00:...|\n",
      "|        85| 2020-03-17T00:00:...|          76001|               Cali|         Valle del Cauca|      Casa|  42|   F|Relacionado|  Leve|           Colombia|        Asintomático|          -   -|2020-03-17T00:00:...|               -   -|2020-03-17T00:00:...|\n",
      "|        90| 2020-03-15T00:00:...|          41001|              Neiva|                   Huila|Recuperado|  53|   F|Relacionado|  Leve|           Colombia|2020-03-15T00:00:...|          -   -|2020-03-17T00:00:...|2020-03-30T00:00:...|2020-03-17T00:00:...|\n",
      "|        92| 2020-03-18T00:00:...|          11001|        Bogotá D.C.|             Bogotá D.C.|Recuperado|  50|   M|Relacionado|  Leve|           Colombia|2020-03-10T00:00:...|          -   -|2020-03-18T00:00:...|2020-04-12T00:00:...|2020-03-18T00:00:...|\n",
      "|       111| 2020-03-19T00:00:...|          11001|        Bogotá D.C.|             Bogotá D.C.|      Casa|  60|   M|Relacionado|  Leve|           Colombia|2020-03-14T00:00:...|          -   -|2020-03-19T00:00:...|               -   -|2020-03-19T00:00:...|\n",
      "|       116| 2020-03-18T00:00:...|          11001|        Bogotá D.C.|             Bogotá D.C.|Recuperado|  40|   F|Relacionado|  Leve|           Colombia|2020-03-15T00:00:...|          -   -|2020-03-19T00:00:...|2020-04-12T00:00:...|2020-03-19T00:00:...|\n",
      "+----------+---------------------+---------------+-------------------+------------------------+----------+----+----+-----------+------+-------------------+--------------------+---------------+--------------------+--------------------+--------------------+\n",
      "only showing top 20 rows"
     ]
    }
   ],
   "source": [
    "filterColombia = covidDf.filter((col(\"País de procedencia\") == \"Colombia\") & (col(\"Edad\")>=40))\n",
    "filterColombia.show(20)"
   ]
  },
  {
   "cell_type": "code",
   "execution_count": 19,
   "metadata": {},
   "outputs": [
    {
     "data": {
      "application/vnd.jupyter.widget-view+json": {
       "model_id": "945bee96e92245c7bbe4d302d877d697",
       "version_major": 2,
       "version_minor": 0
      },
      "text/plain": [
       "VBox()"
      ]
     },
     "metadata": {},
     "output_type": "display_data"
    },
    {
     "data": {
      "application/vnd.jupyter.widget-view+json": {
       "model_id": "",
       "version_major": 2,
       "version_minor": 0
      },
      "text/plain": [
       "FloatProgress(value=0.0, bar_style='info', description='Progress:', layout=Layout(height='25px', width='50%'),…"
      ]
     },
     "metadata": {},
     "output_type": "display_data"
    },
    {
     "name": "stdout",
     "output_type": "stream",
     "text": [
      "+----------+---------------------+---------------+-------------------+------------------------+----------+----+----+-----------+------+-------------------+--------------------+---------------+--------------------+--------------------+\n",
      "|ID de caso|Fecha de notificación|Codigo DIVIPOLA|Ciudad de ubicación|Departamento o Distrito |  atención|Edad|Sexo|       Tipo|Estado|País de procedencia|                 FIS|Fecha de muerte|   Fecha diagnostico|    Fecha recuperado|\n",
      "+----------+---------------------+---------------+-------------------+------------------------+----------+----+----+-----------+------+-------------------+--------------------+---------------+--------------------+--------------------+\n",
      "|         4| 2020-03-09T00:00:...|           5001|           Medellín|               Antioquia|Recuperado|  55|   M|Relacionado|  Leve|           Colombia|2020-03-06T00:00:...|          -   -|2020-03-11T00:00:...|2020-03-26T00:00:...|\n",
      "|        13| 2020-03-10T00:00:...|          41001|              Neiva|                   Huila|Recuperado|  68|   F|Relacionado|  Leve|           Colombia|2020-03-06T00:00:...|          -   -|2020-03-12T00:00:...|2020-03-30T00:00:...|\n",
      "|        19| 2020-03-12T00:00:...|          11001|        Bogotá D.C.|             Bogotá D.C.|Recuperado|  54|   F|Relacionado|  Leve|           Colombia|2020-03-09T00:00:...|          -   -|2020-03-14T00:00:...|2020-03-24T00:00:...|\n",
      "|        29| 2020-03-12T00:00:...|          41001|              Neiva|                   Huila|Recuperado|  55|   F|Relacionado|  Leve|           Colombia|2020-03-10T00:00:...|          -   -|2020-03-12T00:00:...|2020-03-25T00:00:...|\n",
      "|        37| 2020-03-13T00:00:...|          11001|        Bogotá D.C.|             Bogotá D.C.|Recuperado|  45|   F|Relacionado|  Leve|           Colombia|2020-03-12T00:00:...|          -   -|2020-03-14T00:00:...|2020-03-27T00:00:...|\n",
      "|        41| 2020-03-14T00:00:...|          41001|              Neiva|                   Huila|Recuperado|  79|   M|Relacionado|  Leve|           Colombia|        Asintomático|          -   -|2020-03-14T00:00:...|2020-03-28T00:00:...|\n",
      "|        42| 2020-03-14T00:00:...|          41001|              Neiva|                   Huila|Recuperado|  52|   F|Relacionado|  Leve|           Colombia|2020-03-10T00:00:...|          -   -|2020-03-14T00:00:...|2020-03-24T00:00:...|\n",
      "|        43| 2020-03-14T00:00:...|          41001|              Neiva|                   Huila|Recuperado|  71|   M|Relacionado|  Leve|           Colombia|2020-03-09T00:00:...|          -   -|2020-03-14T00:00:...|2020-03-24T00:00:...|\n",
      "|        46| 2020-03-13T00:00:...|          11001|        Bogotá D.C.|             Bogotá D.C.|      Casa|  44|   F|Relacionado|  Leve|           Colombia|2020-03-06T00:00:...|          -   -|2020-03-15T00:00:...|               -   -|\n",
      "|        55| 2020-03-16T00:00:...|          11001|        Bogotá D.C.|             Bogotá D.C.|Recuperado|  58|   F|Relacionado|  Leve|           Colombia|2020-03-05T00:00:...|          -   -|2020-03-16T00:00:...|2020-03-20T00:00:...|\n",
      "|        65| 2020-03-16T00:00:...|          11001|        Bogotá D.C.|             Bogotá D.C.|Recuperado|  64|   M|Relacionado|  Leve|           Colombia|2020-03-15T00:00:...|          -   -|2020-03-16T00:00:...|2020-04-01T00:00:...|\n",
      "|        71| 2020-03-17T00:00:...|          54001|             Cúcuta|      Norte de Santander|Recuperado|  54|   M|Relacionado|  Leve|           Colombia|2020-03-14T00:00:...|          -   -|2020-03-17T00:00:...|2020-04-25T00:00:...|\n",
      "|        73| 2020-03-16T00:00:...|          13001|Cartagena de Indias|     Cartagena D.T. y C.|Recuperado|  54|   F|Relacionado|  Leve|           Colombia|2020-03-14T00:00:...|          -   -|2020-03-17T00:00:...|2020-03-28T00:00:...|\n",
      "|        75| 2020-03-17T00:00:...|          11001|        Bogotá D.C.|             Bogotá D.C.|Recuperado|  49|   F|Relacionado|  Leve|           Colombia|2020-03-11T00:00:...|          -   -|2020-03-17T00:00:...|2020-03-26T00:00:...|\n",
      "|        80| 2020-03-14T00:00:...|          76520|            Palmira|         Valle del Cauca|Recuperado|  53|   F|Relacionado|  Leve|           Colombia|2020-03-13T00:00:...|          -   -|2020-03-17T00:00:...|2020-03-28T00:00:...|\n",
      "|        85| 2020-03-17T00:00:...|          76001|               Cali|         Valle del Cauca|      Casa|  42|   F|Relacionado|  Leve|           Colombia|        Asintomático|          -   -|2020-03-17T00:00:...|               -   -|\n",
      "|        90| 2020-03-15T00:00:...|          41001|              Neiva|                   Huila|Recuperado|  53|   F|Relacionado|  Leve|           Colombia|2020-03-15T00:00:...|          -   -|2020-03-17T00:00:...|2020-03-30T00:00:...|\n",
      "|        92| 2020-03-18T00:00:...|          11001|        Bogotá D.C.|             Bogotá D.C.|Recuperado|  50|   M|Relacionado|  Leve|           Colombia|2020-03-10T00:00:...|          -   -|2020-03-18T00:00:...|2020-04-12T00:00:...|\n",
      "|       111| 2020-03-19T00:00:...|          11001|        Bogotá D.C.|             Bogotá D.C.|      Casa|  60|   M|Relacionado|  Leve|           Colombia|2020-03-14T00:00:...|          -   -|2020-03-19T00:00:...|               -   -|\n",
      "|       116| 2020-03-18T00:00:...|          11001|        Bogotá D.C.|             Bogotá D.C.|Recuperado|  40|   F|Relacionado|  Leve|           Colombia|2020-03-15T00:00:...|          -   -|2020-03-19T00:00:...|2020-04-12T00:00:...|\n",
      "+----------+---------------------+---------------+-------------------+------------------------+----------+----+----+-----------+------+-------------------+--------------------+---------------+--------------------+--------------------+\n",
      "only showing top 20 rows"
     ]
    }
   ],
   "source": [
    "filterColombia=filterColombia.drop(col(\"fecha reporte web\"))\n",
    "filterColombia.show(20)"
   ]
  },
  {
   "cell_type": "code",
   "execution_count": 21,
   "metadata": {},
   "outputs": [
    {
     "data": {
      "application/vnd.jupyter.widget-view+json": {
       "model_id": "095f3e5afb9a44bc82c0c2f06125b4dd",
       "version_major": 2,
       "version_minor": 0
      },
      "text/plain": [
       "VBox()"
      ]
     },
     "metadata": {},
     "output_type": "display_data"
    },
    {
     "data": {
      "application/vnd.jupyter.widget-view+json": {
       "model_id": "",
       "version_major": 2,
       "version_minor": 0
      },
      "text/plain": [
       "FloatProgress(value=0.0, bar_style='info', description='Progress:', layout=Layout(height='25px', width='50%'),…"
      ]
     },
     "metadata": {},
     "output_type": "display_data"
    }
   ],
   "source": [
    "filterColombia.write.csv('s3://topicostelematica/DatosCovidMayoresde40Colombia.csv')"
   ]
  },
  {
   "cell_type": "code",
   "execution_count": null,
   "metadata": {},
   "outputs": [],
   "source": []
  }
 ],
 "metadata": {
  "kernelspec": {
   "display_name": "PySpark",
   "language": "",
   "name": "pysparkkernel"
  },
  "language_info": {
   "codemirror_mode": {
    "name": "python",
    "version": 2
   },
   "mimetype": "text/x-python",
   "name": "pyspark",
   "pygments_lexer": "python2"
  }
 },
 "nbformat": 4,
 "nbformat_minor": 4
}
